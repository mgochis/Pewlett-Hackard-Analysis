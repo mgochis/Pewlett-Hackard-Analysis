{
 "cells": [
  {
   "cell_type": "code",
   "execution_count": 3,
   "id": "2263d5a6",
   "metadata": {},
   "outputs": [],
   "source": [
    "voting_data = [{\"county\":\"Arapahoe\", \"registered_voters\": 422829}, \n",
    "               {\"county\":\"Denver\", \"registered_voters\": 463353}, \n",
    "               {\"county\":\"Jefferson\", \"registered_voters\": 432438}]"
   ]
  },
  {
   "cell_type": "code",
   "execution_count": 59,
   "id": "6b9d8c26",
   "metadata": {
    "scrolled": true
   },
   "outputs": [
    {
     "name": "stdout",
     "output_type": "stream",
     "text": [
      "{'county': 'Arapahoe', 'registered_voters': 422829}\n",
      "{'county': 'Denver', 'registered_voters': 463353}\n",
      "{'county': 'Jefferson', 'registered_voters': 432438}\n"
     ]
    }
   ],
   "source": [
    "for x in voting_data:\n",
    "  print(x)"
   ]
  },
  {
   "cell_type": "code",
   "execution_count": 54,
   "id": "a1790f8f",
   "metadata": {},
   "outputs": [
    {
     "data": {
      "text/plain": [
       "{'Denver'}"
      ]
     },
     "execution_count": 54,
     "metadata": {},
     "output_type": "execute_result"
    }
   ],
   "source": [
    "{voting_data[1]['county']}"
   ]
  },
  {
   "cell_type": "code",
   "execution_count": 57,
   "id": "75b20506",
   "metadata": {},
   "outputs": [
    {
     "data": {
      "text/plain": [
       "{'Jefferson'}"
      ]
     },
     "execution_count": 57,
     "metadata": {},
     "output_type": "execute_result"
    }
   ],
   "source": [
    "{voting_data[2]['county']}"
   ]
  },
  {
   "cell_type": "code",
   "execution_count": 26,
   "id": "8f3ffe6d",
   "metadata": {
    "scrolled": true
   },
   "outputs": [
    {
     "name": "stdout",
     "output_type": "stream",
     "text": [
      "Denver county has 463,353 registered voters.\n"
     ]
    }
   ],
   "source": [
    "print(f\"{voting_data[1]['county']} county has {voting_data[1]['registered_voters']:,} registered voters.\")"
   ]
  },
  {
   "cell_type": "code",
   "execution_count": 35,
   "id": "df394fca",
   "metadata": {},
   "outputs": [
    {
     "name": "stdout",
     "output_type": "stream",
     "text": [
      "Arapahoe county has 422,829 registered voters.\n",
      "Denver county has 463,353 registered voters.\n",
      "Jefferson county has 432,438 registered voters.\n"
     ]
    }
   ],
   "source": [
    "for x in range(len(voting_data)):\n",
    "    print(f\"{voting_data[x]['county']} county has {voting_data[x]['registered_voters']:,} registered voters.\")"
   ]
  }
 ],
 "metadata": {
  "kernelspec": {
   "display_name": "Python 3 (ipykernel)",
   "language": "python",
   "name": "python3"
  },
  "language_info": {
   "codemirror_mode": {
    "name": "ipython",
    "version": 3
   },
   "file_extension": ".py",
   "mimetype": "text/x-python",
   "name": "python",
   "nbconvert_exporter": "python",
   "pygments_lexer": "ipython3",
   "version": "3.9.7"
  }
 },
 "nbformat": 4,
 "nbformat_minor": 5
}
